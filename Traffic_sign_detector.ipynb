{
  "nbformat": 4,
  "nbformat_minor": 0,
  "metadata": {
    "colab": {
      "name": "Traffic sign detector.ipynb",
      "version": "0.3.2",
      "provenance": [],
      "include_colab_link": true
    },
    "kernelspec": {
      "name": "python2",
      "display_name": "Python 2"
    }
  },
  "cells": [
    {
      "cell_type": "markdown",
      "metadata": {
        "id": "view-in-github",
        "colab_type": "text"
      },
      "source": [
        "<a href=\"https://colab.research.google.com/github/hrishavkmr/TrafficSignRecognition/blob/master/Traffic_sign_detector.ipynb\" target=\"_parent\"><img src=\"https://colab.research.google.com/assets/colab-badge.svg\" alt=\"Open In Colab\"/></a>"
      ]
    },
    {
      "cell_type": "code",
      "metadata": {
        "id": "NXb1piZVSpBd",
        "colab_type": "code",
        "colab": {}
      },
      "source": [
        "\n",
        "\n",
        "import cv2\n",
        "import sys\n",
        "from copy import deepcopy\n",
        "\n",
        "\n",
        "def preprocess(source_image, min_threshold=50, max_threshold=80):\n",
        "    gray = cv2.cvtColor(source_image, cv2.COLOR_BGR2GRAY)  # convert image into gray scale\n",
        "    gaussian = cv2.GaussianBlur(gray, (5, 5), 0)  # apply gaussian blur\n",
        "    canny = cv2.Canny(gaussian, min_threshold, max_threshold)\n",
        "    return canny, gaussian, gray\n",
        "\n",
        "\n",
        "def find_ellipses(source_image, canny_image, min_points=5, \\\n",
        "                  axes_ratio=1.5, minor_axes_ratio=25, major_axes_ratio=15):\n",
        "    # declaring variables\n",
        "    i = 0\n",
        "    height, width, channels = source_image.shape\n",
        "    ellipse_list = []\n",
        "\n",
        "    # find all the contours\n",
        "    _,contours, hierarchy = cv2.findContours(canny_image, cv2.RETR_TREE, cv2.CHAIN_APPROX_SIMPLE)\n",
        "    number_of_contours = len(contours)\n",
        "\n",
        "    # finding and filtering ellipses\n",
        "    while i < number_of_contours:\n",
        "        if len(contours[i]) >= min_points:\n",
        "            ellipse = cv2.fitEllipse(contours[i])\n",
        "            (x, y), (minor_axis, major_axis), angle = ellipse\n",
        "            if minor_axis != 0 and major_axis != 0 and major_axis / minor_axis <= axes_ratio:\n",
        "                ellipse_min_ratio = width / minor_axis\n",
        "                ellipse_maj_ratio = height / major_axis\n",
        "\n",
        "                if minor_axes_ratio >= ellipse_min_ratio >= 1.5 and major_axes_ratio >= ellipse_maj_ratio >= 1.5:\n",
        "                    ellipse_list.append(ellipse)\n",
        "\n",
        "        i += 1\n",
        "\n",
        "    return ellipse_list\n",
        "\n",
        "\n",
        "def main():\n",
        "    source_image = cv2.imread('00295.jpg', 1)\n",
        "    output_image = deepcopy(source_image)\n",
        "    canny, gaussian, gray = preprocess(source_image)\n",
        "    ellipse_list = find_ellipses(source_image, canny)\n",
        "\n",
        "    for ellipse in ellipse_list:\n",
        "        cv2.ellipse(output_image, ellipse, (255, 0, 0), 6)\n",
        "\n",
        "    output_file = \"output_\"+'00295.jpg'\n",
        "    cv2.imwrite(output_file, output_image)"
      ],
      "execution_count": 0,
      "outputs": []
    },
    {
      "cell_type": "code",
      "metadata": {
        "id": "4I7ii6v7mBBt",
        "colab_type": "code",
        "colab": {}
      },
      "source": [
        "main()"
      ],
      "execution_count": 0,
      "outputs": []
    }
  ]
}